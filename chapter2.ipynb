{
 "cells": [
  {
   "cell_type": "markdown",
   "id": "6aef2d43-1f37-4a20-946f-71351891f4c0",
   "metadata": {},
   "source": [
    "# AIエンジニアを目指す人のための機械学習入門"
   ]
  },
  {
   "cell_type": "markdown",
   "id": "94bf5c8e-08ea-4f65-b196-50e7166a9e54",
   "metadata": {
    "tags": []
   },
   "source": [
    "## 第２章：実装しながら学ぶアルゴリズムのこころ・教師あり学習編"
   ]
  },
  {
   "cell_type": "markdown",
   "id": "a1a0886f-b42a-4d7b-ac74-1f6c261907fd",
   "metadata": {},
   "source": [
    "### <u>Boston House-prices(ボストン住宅価格)を用いた**住宅価格予測AI**の構築</u>"
   ]
  },
  {
   "cell_type": "markdown",
   "id": "b57cecfa-847e-4c98-b632-f10a1f86d8e3",
   "metadata": {},
   "source": [
    "### データセットの用意"
   ]
  },
  {
   "cell_type": "code",
   "execution_count": 1,
   "id": "4d43061c-c631-410c-83d2-5c04fb25a050",
   "metadata": {},
   "outputs": [],
   "source": [
    "from sklearn.model_selection import train_test_split\n",
    "from mglearn.datasets import load_extended_boston # データセットのダウンロードに使用"
   ]
  },
  {
   "cell_type": "code",
   "execution_count": 2,
   "id": "428a8528-662f-4444-bddf-02d5c795e4b4",
   "metadata": {},
   "outputs": [
    {
     "name": "stderr",
     "output_type": "stream",
     "text": [
      "/Users/kkurihara/ai/study/ai-engineer/.venv/lib/python3.9/site-packages/sklearn/utils/deprecation.py:87: FutureWarning: Function load_boston is deprecated; `load_boston` is deprecated in 1.0 and will be removed in 1.2.\n",
      "\n",
      "    The Boston housing prices dataset has an ethical problem. You can refer to\n",
      "    the documentation of this function for further details.\n",
      "\n",
      "    The scikit-learn maintainers therefore strongly discourage the use of this\n",
      "    dataset unless the purpose of the code is to study and educate about\n",
      "    ethical issues in data science and machine learning.\n",
      "\n",
      "    In this special case, you can fetch the dataset from the original\n",
      "    source::\n",
      "\n",
      "        import pandas as pd\n",
      "        import numpy as np\n",
      "\n",
      "\n",
      "        data_url = \"http://lib.stat.cmu.edu/datasets/boston\"\n",
      "        raw_df = pd.read_csv(data_url, sep=\"\\s+\", skiprows=22, header=None)\n",
      "        data = np.hstack([raw_df.values[::2, :], raw_df.values[1::2, :2]])\n",
      "        target = raw_df.values[1::2, 2]\n",
      "\n",
      "    Alternative datasets include the California housing dataset (i.e.\n",
      "    :func:`~sklearn.datasets.fetch_california_housing`) and the Ames housing\n",
      "    dataset. You can load the datasets as follows::\n",
      "\n",
      "        from sklearn.datasets import fetch_california_housing\n",
      "        housing = fetch_california_housing()\n",
      "\n",
      "    for the California housing dataset and::\n",
      "\n",
      "        from sklearn.datasets import fetch_openml\n",
      "        housing = fetch_openml(name=\"house_prices\", as_frame=True)\n",
      "\n",
      "    for the Ames housing dataset.\n",
      "    \n",
      "  warnings.warn(msg, category=FutureWarning)\n"
     ]
    }
   ],
   "source": [
    "X, y = load_extended_boston()"
   ]
  },
  {
   "cell_type": "code",
   "execution_count": 3,
   "id": "019d1137-b0e2-4ced-ae78-45f00b741c17",
   "metadata": {},
   "outputs": [
    {
     "data": {
      "text/plain": [
       "(506, 104)"
      ]
     },
     "execution_count": 3,
     "metadata": {},
     "output_type": "execute_result"
    }
   ],
   "source": [
    "X.shape"
   ]
  },
  {
   "cell_type": "code",
   "execution_count": 4,
   "id": "f641a4c0-c8d0-4659-9d41-d8e52b9c3525",
   "metadata": {},
   "outputs": [],
   "source": [
    "X_train, X_test, y_train, y_test = train_test_split(X, y, random_state=0, test_size=0.25)"
   ]
  },
  {
   "cell_type": "code",
   "execution_count": 5,
   "id": "826d11ae-ae42-407e-8462-aaf0ea8b0b4f",
   "metadata": {},
   "outputs": [],
   "source": [
    "import pandas as pd"
   ]
  },
  {
   "cell_type": "code",
   "execution_count": 6,
   "id": "1dfd5d62-782d-4c76-9d00-9141f1fdc3e8",
   "metadata": {},
   "outputs": [
    {
     "data": {
      "text/html": [
       "<div>\n",
       "<style scoped>\n",
       "    .dataframe tbody tr th:only-of-type {\n",
       "        vertical-align: middle;\n",
       "    }\n",
       "\n",
       "    .dataframe tbody tr th {\n",
       "        vertical-align: top;\n",
       "    }\n",
       "\n",
       "    .dataframe thead th {\n",
       "        text-align: right;\n",
       "    }\n",
       "</style>\n",
       "<table border=\"1\" class=\"dataframe\">\n",
       "  <thead>\n",
       "    <tr style=\"text-align: right;\">\n",
       "      <th></th>\n",
       "      <th>0</th>\n",
       "      <th>1</th>\n",
       "      <th>2</th>\n",
       "      <th>3</th>\n",
       "      <th>4</th>\n",
       "      <th>5</th>\n",
       "      <th>6</th>\n",
       "      <th>7</th>\n",
       "      <th>8</th>\n",
       "      <th>9</th>\n",
       "      <th>...</th>\n",
       "      <th>94</th>\n",
       "      <th>95</th>\n",
       "      <th>96</th>\n",
       "      <th>97</th>\n",
       "      <th>98</th>\n",
       "      <th>99</th>\n",
       "      <th>100</th>\n",
       "      <th>101</th>\n",
       "      <th>102</th>\n",
       "      <th>103</th>\n",
       "    </tr>\n",
       "  </thead>\n",
       "  <tbody>\n",
       "    <tr>\n",
       "      <th>0</th>\n",
       "      <td>0.002079</td>\n",
       "      <td>0.22</td>\n",
       "      <td>0.197947</td>\n",
       "      <td>0.0</td>\n",
       "      <td>0.094650</td>\n",
       "      <td>0.391646</td>\n",
       "      <td>0.693100</td>\n",
       "      <td>0.620657</td>\n",
       "      <td>0.260870</td>\n",
       "      <td>0.272901</td>\n",
       "      <td>...</td>\n",
       "      <td>0.074475</td>\n",
       "      <td>0.188708</td>\n",
       "      <td>0.267554</td>\n",
       "      <td>0.125983</td>\n",
       "      <td>0.478158</td>\n",
       "      <td>0.677941</td>\n",
       "      <td>0.319222</td>\n",
       "      <td>0.961199</td>\n",
       "      <td>0.452600</td>\n",
       "      <td>0.213116</td>\n",
       "    </tr>\n",
       "    <tr>\n",
       "      <th>1</th>\n",
       "      <td>0.001090</td>\n",
       "      <td>0.25</td>\n",
       "      <td>0.171188</td>\n",
       "      <td>0.0</td>\n",
       "      <td>0.139918</td>\n",
       "      <td>0.453344</td>\n",
       "      <td>0.456231</td>\n",
       "      <td>0.527640</td>\n",
       "      <td>0.304348</td>\n",
       "      <td>0.185115</td>\n",
       "      <td>...</td>\n",
       "      <td>0.034267</td>\n",
       "      <td>0.139821</td>\n",
       "      <td>0.185115</td>\n",
       "      <td>0.038259</td>\n",
       "      <td>0.570507</td>\n",
       "      <td>0.755319</td>\n",
       "      <td>0.156108</td>\n",
       "      <td>1.000000</td>\n",
       "      <td>0.206678</td>\n",
       "      <td>0.042716</td>\n",
       "    </tr>\n",
       "    <tr>\n",
       "      <th>2</th>\n",
       "      <td>0.001106</td>\n",
       "      <td>0.40</td>\n",
       "      <td>0.218109</td>\n",
       "      <td>1.0</td>\n",
       "      <td>0.127572</td>\n",
       "      <td>0.710098</td>\n",
       "      <td>0.474768</td>\n",
       "      <td>0.332603</td>\n",
       "      <td>0.130435</td>\n",
       "      <td>0.127863</td>\n",
       "      <td>...</td>\n",
       "      <td>0.016349</td>\n",
       "      <td>0.068012</td>\n",
       "      <td>0.125396</td>\n",
       "      <td>0.015242</td>\n",
       "      <td>0.282933</td>\n",
       "      <td>0.521654</td>\n",
       "      <td>0.063407</td>\n",
       "      <td>0.961792</td>\n",
       "      <td>0.116906</td>\n",
       "      <td>0.014210</td>\n",
       "    </tr>\n",
       "    <tr>\n",
       "      <th>3</th>\n",
       "      <td>0.097903</td>\n",
       "      <td>0.00</td>\n",
       "      <td>0.646628</td>\n",
       "      <td>0.0</td>\n",
       "      <td>0.633745</td>\n",
       "      <td>0.557578</td>\n",
       "      <td>0.987642</td>\n",
       "      <td>0.054206</td>\n",
       "      <td>1.000000</td>\n",
       "      <td>0.914122</td>\n",
       "      <td>...</td>\n",
       "      <td>0.835619</td>\n",
       "      <td>0.739077</td>\n",
       "      <td>0.902781</td>\n",
       "      <td>0.388199</td>\n",
       "      <td>0.653689</td>\n",
       "      <td>0.798480</td>\n",
       "      <td>0.343349</td>\n",
       "      <td>0.975342</td>\n",
       "      <td>0.419400</td>\n",
       "      <td>0.180344</td>\n",
       "    </tr>\n",
       "    <tr>\n",
       "      <th>4</th>\n",
       "      <td>0.121703</td>\n",
       "      <td>0.00</td>\n",
       "      <td>0.646628</td>\n",
       "      <td>0.0</td>\n",
       "      <td>0.604938</td>\n",
       "      <td>0.617168</td>\n",
       "      <td>0.905252</td>\n",
       "      <td>0.062736</td>\n",
       "      <td>1.000000</td>\n",
       "      <td>0.914122</td>\n",
       "      <td>...</td>\n",
       "      <td>0.835619</td>\n",
       "      <td>0.739077</td>\n",
       "      <td>0.048982</td>\n",
       "      <td>0.606892</td>\n",
       "      <td>0.653689</td>\n",
       "      <td>0.043323</td>\n",
       "      <td>0.536776</td>\n",
       "      <td>0.002871</td>\n",
       "      <td>0.035574</td>\n",
       "      <td>0.440773</td>\n",
       "    </tr>\n",
       "    <tr>\n",
       "      <th>...</th>\n",
       "      <td>...</td>\n",
       "      <td>...</td>\n",
       "      <td>...</td>\n",
       "      <td>...</td>\n",
       "      <td>...</td>\n",
       "      <td>...</td>\n",
       "      <td>...</td>\n",
       "      <td>...</td>\n",
       "      <td>...</td>\n",
       "      <td>...</td>\n",
       "      <td>...</td>\n",
       "      <td>...</td>\n",
       "      <td>...</td>\n",
       "      <td>...</td>\n",
       "      <td>...</td>\n",
       "      <td>...</td>\n",
       "      <td>...</td>\n",
       "      <td>...</td>\n",
       "      <td>...</td>\n",
       "      <td>...</td>\n",
       "      <td>...</td>\n",
       "    </tr>\n",
       "    <tr>\n",
       "      <th>374</th>\n",
       "      <td>0.003120</td>\n",
       "      <td>0.00</td>\n",
       "      <td>0.253666</td>\n",
       "      <td>0.0</td>\n",
       "      <td>0.222222</td>\n",
       "      <td>0.411381</td>\n",
       "      <td>0.735324</td>\n",
       "      <td>0.326592</td>\n",
       "      <td>0.173913</td>\n",
       "      <td>0.190840</td>\n",
       "      <td>...</td>\n",
       "      <td>0.036420</td>\n",
       "      <td>0.142115</td>\n",
       "      <td>0.188063</td>\n",
       "      <td>0.052713</td>\n",
       "      <td>0.554550</td>\n",
       "      <td>0.733846</td>\n",
       "      <td>0.205691</td>\n",
       "      <td>0.971113</td>\n",
       "      <td>0.272195</td>\n",
       "      <td>0.076294</td>\n",
       "    </tr>\n",
       "    <tr>\n",
       "      <th>375</th>\n",
       "      <td>0.000903</td>\n",
       "      <td>0.45</td>\n",
       "      <td>0.109238</td>\n",
       "      <td>0.0</td>\n",
       "      <td>0.106996</td>\n",
       "      <td>0.693045</td>\n",
       "      <td>0.240989</td>\n",
       "      <td>0.486519</td>\n",
       "      <td>0.173913</td>\n",
       "      <td>0.402672</td>\n",
       "      <td>...</td>\n",
       "      <td>0.162145</td>\n",
       "      <td>0.111377</td>\n",
       "      <td>0.396163</td>\n",
       "      <td>0.012667</td>\n",
       "      <td>0.076505</td>\n",
       "      <td>0.272125</td>\n",
       "      <td>0.008701</td>\n",
       "      <td>0.967935</td>\n",
       "      <td>0.030949</td>\n",
       "      <td>0.000990</td>\n",
       "    </tr>\n",
       "    <tr>\n",
       "      <th>376</th>\n",
       "      <td>0.001626</td>\n",
       "      <td>0.00</td>\n",
       "      <td>0.350073</td>\n",
       "      <td>0.0</td>\n",
       "      <td>0.333333</td>\n",
       "      <td>0.471355</td>\n",
       "      <td>0.820803</td>\n",
       "      <td>0.147114</td>\n",
       "      <td>0.217391</td>\n",
       "      <td>0.467557</td>\n",
       "      <td>...</td>\n",
       "      <td>0.218610</td>\n",
       "      <td>0.258649</td>\n",
       "      <td>0.464740</td>\n",
       "      <td>0.110567</td>\n",
       "      <td>0.306021</td>\n",
       "      <td>0.549858</td>\n",
       "      <td>0.130818</td>\n",
       "      <td>0.987983</td>\n",
       "      <td>0.235054</td>\n",
       "      <td>0.055922</td>\n",
       "    </tr>\n",
       "    <tr>\n",
       "      <th>377</th>\n",
       "      <td>0.002506</td>\n",
       "      <td>0.00</td>\n",
       "      <td>0.236437</td>\n",
       "      <td>0.0</td>\n",
       "      <td>0.129630</td>\n",
       "      <td>0.473079</td>\n",
       "      <td>0.850669</td>\n",
       "      <td>0.414644</td>\n",
       "      <td>0.086957</td>\n",
       "      <td>0.087786</td>\n",
       "      <td>...</td>\n",
       "      <td>0.007706</td>\n",
       "      <td>0.049497</td>\n",
       "      <td>0.086865</td>\n",
       "      <td>0.041350</td>\n",
       "      <td>0.317904</td>\n",
       "      <td>0.557915</td>\n",
       "      <td>0.265579</td>\n",
       "      <td>0.979131</td>\n",
       "      <td>0.466086</td>\n",
       "      <td>0.221866</td>\n",
       "    </tr>\n",
       "    <tr>\n",
       "      <th>378</th>\n",
       "      <td>0.001493</td>\n",
       "      <td>0.00</td>\n",
       "      <td>0.131598</td>\n",
       "      <td>0.0</td>\n",
       "      <td>0.257202</td>\n",
       "      <td>0.385323</td>\n",
       "      <td>0.881565</td>\n",
       "      <td>0.133356</td>\n",
       "      <td>0.173913</td>\n",
       "      <td>0.208015</td>\n",
       "      <td>...</td>\n",
       "      <td>0.043270</td>\n",
       "      <td>0.088517</td>\n",
       "      <td>0.208015</td>\n",
       "      <td>0.074390</td>\n",
       "      <td>0.181077</td>\n",
       "      <td>0.425532</td>\n",
       "      <td>0.152177</td>\n",
       "      <td>1.000000</td>\n",
       "      <td>0.357616</td>\n",
       "      <td>0.127889</td>\n",
       "    </tr>\n",
       "  </tbody>\n",
       "</table>\n",
       "<p>379 rows × 104 columns</p>\n",
       "</div>"
      ],
      "text/plain": [
       "          0     1         2    3         4         5         6         7    \\\n",
       "0    0.002079  0.22  0.197947  0.0  0.094650  0.391646  0.693100  0.620657   \n",
       "1    0.001090  0.25  0.171188  0.0  0.139918  0.453344  0.456231  0.527640   \n",
       "2    0.001106  0.40  0.218109  1.0  0.127572  0.710098  0.474768  0.332603   \n",
       "3    0.097903  0.00  0.646628  0.0  0.633745  0.557578  0.987642  0.054206   \n",
       "4    0.121703  0.00  0.646628  0.0  0.604938  0.617168  0.905252  0.062736   \n",
       "..        ...   ...       ...  ...       ...       ...       ...       ...   \n",
       "374  0.003120  0.00  0.253666  0.0  0.222222  0.411381  0.735324  0.326592   \n",
       "375  0.000903  0.45  0.109238  0.0  0.106996  0.693045  0.240989  0.486519   \n",
       "376  0.001626  0.00  0.350073  0.0  0.333333  0.471355  0.820803  0.147114   \n",
       "377  0.002506  0.00  0.236437  0.0  0.129630  0.473079  0.850669  0.414644   \n",
       "378  0.001493  0.00  0.131598  0.0  0.257202  0.385323  0.881565  0.133356   \n",
       "\n",
       "          8         9    ...       94        95        96        97   \\\n",
       "0    0.260870  0.272901  ...  0.074475  0.188708  0.267554  0.125983   \n",
       "1    0.304348  0.185115  ...  0.034267  0.139821  0.185115  0.038259   \n",
       "2    0.130435  0.127863  ...  0.016349  0.068012  0.125396  0.015242   \n",
       "3    1.000000  0.914122  ...  0.835619  0.739077  0.902781  0.388199   \n",
       "4    1.000000  0.914122  ...  0.835619  0.739077  0.048982  0.606892   \n",
       "..        ...       ...  ...       ...       ...       ...       ...   \n",
       "374  0.173913  0.190840  ...  0.036420  0.142115  0.188063  0.052713   \n",
       "375  0.173913  0.402672  ...  0.162145  0.111377  0.396163  0.012667   \n",
       "376  0.217391  0.467557  ...  0.218610  0.258649  0.464740  0.110567   \n",
       "377  0.086957  0.087786  ...  0.007706  0.049497  0.086865  0.041350   \n",
       "378  0.173913  0.208015  ...  0.043270  0.088517  0.208015  0.074390   \n",
       "\n",
       "          98        99        100       101       102       103  \n",
       "0    0.478158  0.677941  0.319222  0.961199  0.452600  0.213116  \n",
       "1    0.570507  0.755319  0.156108  1.000000  0.206678  0.042716  \n",
       "2    0.282933  0.521654  0.063407  0.961792  0.116906  0.014210  \n",
       "3    0.653689  0.798480  0.343349  0.975342  0.419400  0.180344  \n",
       "4    0.653689  0.043323  0.536776  0.002871  0.035574  0.440773  \n",
       "..        ...       ...       ...       ...       ...       ...  \n",
       "374  0.554550  0.733846  0.205691  0.971113  0.272195  0.076294  \n",
       "375  0.076505  0.272125  0.008701  0.967935  0.030949  0.000990  \n",
       "376  0.306021  0.549858  0.130818  0.987983  0.235054  0.055922  \n",
       "377  0.317904  0.557915  0.265579  0.979131  0.466086  0.221866  \n",
       "378  0.181077  0.425532  0.152177  1.000000  0.357616  0.127889  \n",
       "\n",
       "[379 rows x 104 columns]"
      ]
     },
     "execution_count": 6,
     "metadata": {},
     "output_type": "execute_result"
    }
   ],
   "source": [
    "# array([0.39164591, 0.45334355])\n",
    "df = pd.DataFrame(X_train)\n",
    "df"
   ]
  },
  {
   "cell_type": "code",
   "execution_count": 7,
   "id": "7e4800b8-1ccd-4680-97fa-14e072068c95",
   "metadata": {},
   "outputs": [
    {
     "data": {
      "text/plain": [
       "0.12757201646090532"
      ]
     },
     "execution_count": 7,
     "metadata": {},
     "output_type": "execute_result"
    }
   ],
   "source": [
    "X_train[2, 4]"
   ]
  },
  {
   "cell_type": "code",
   "execution_count": 8,
   "id": "f8b42dbd-5ec8-4b8c-a3be-1c312d0878bc",
   "metadata": {},
   "outputs": [
    {
     "data": {
      "text/html": [
       "<div>\n",
       "<style scoped>\n",
       "    .dataframe tbody tr th:only-of-type {\n",
       "        vertical-align: middle;\n",
       "    }\n",
       "\n",
       "    .dataframe tbody tr th {\n",
       "        vertical-align: top;\n",
       "    }\n",
       "\n",
       "    .dataframe thead th {\n",
       "        text-align: right;\n",
       "    }\n",
       "</style>\n",
       "<table border=\"1\" class=\"dataframe\">\n",
       "  <thead>\n",
       "    <tr style=\"text-align: right;\">\n",
       "      <th></th>\n",
       "      <th>0</th>\n",
       "    </tr>\n",
       "  </thead>\n",
       "  <tbody>\n",
       "    <tr>\n",
       "      <th>0</th>\n",
       "      <td>18.5</td>\n",
       "    </tr>\n",
       "    <tr>\n",
       "      <th>1</th>\n",
       "      <td>19.6</td>\n",
       "    </tr>\n",
       "    <tr>\n",
       "      <th>2</th>\n",
       "      <td>33.2</td>\n",
       "    </tr>\n",
       "    <tr>\n",
       "      <th>3</th>\n",
       "      <td>13.1</td>\n",
       "    </tr>\n",
       "    <tr>\n",
       "      <th>4</th>\n",
       "      <td>7.5</td>\n",
       "    </tr>\n",
       "    <tr>\n",
       "      <th>...</th>\n",
       "      <td>...</td>\n",
       "    </tr>\n",
       "    <tr>\n",
       "      <th>374</th>\n",
       "      <td>18.5</td>\n",
       "    </tr>\n",
       "    <tr>\n",
       "      <th>375</th>\n",
       "      <td>36.4</td>\n",
       "    </tr>\n",
       "    <tr>\n",
       "      <th>376</th>\n",
       "      <td>19.2</td>\n",
       "    </tr>\n",
       "    <tr>\n",
       "      <th>377</th>\n",
       "      <td>16.6</td>\n",
       "    </tr>\n",
       "    <tr>\n",
       "      <th>378</th>\n",
       "      <td>23.1</td>\n",
       "    </tr>\n",
       "  </tbody>\n",
       "</table>\n",
       "<p>379 rows × 1 columns</p>\n",
       "</div>"
      ],
      "text/plain": [
       "        0\n",
       "0    18.5\n",
       "1    19.6\n",
       "2    33.2\n",
       "3    13.1\n",
       "4     7.5\n",
       "..    ...\n",
       "374  18.5\n",
       "375  36.4\n",
       "376  19.2\n",
       "377  16.6\n",
       "378  23.1\n",
       "\n",
       "[379 rows x 1 columns]"
      ]
     },
     "execution_count": 8,
     "metadata": {},
     "output_type": "execute_result"
    }
   ],
   "source": [
    "df_y = pd.DataFrame(y_train)\n",
    "df_y"
   ]
  },
  {
   "cell_type": "code",
   "execution_count": 9,
   "id": "1da73f25-c36e-4390-88ed-8d0061a4ef88",
   "metadata": {},
   "outputs": [
    {
     "data": {
      "text/plain": [
       "23.1"
      ]
     },
     "execution_count": 9,
     "metadata": {},
     "output_type": "execute_result"
    }
   ],
   "source": [
    "y_train[378]"
   ]
  },
  {
   "cell_type": "markdown",
   "id": "a07d4ac6-448c-421b-afe1-7da60f7faf5c",
   "metadata": {
    "tags": []
   },
   "source": [
    "### 単回帰モデルの実装"
   ]
  },
  {
   "cell_type": "code",
   "execution_count": 10,
   "id": "7ddd8532-84ff-49d3-a9d8-9b06840d39e8",
   "metadata": {},
   "outputs": [
    {
     "data": {
      "image/png": "[encoded data removed]",
      "text/plain": [
       "<Figure size 432x288 with 1 Axes>"
      ]
     },
     "metadata": {},
     "output_type": "display_data"
    }
   ],
   "source": [
    "import matplotlib.pyplot as plt\n",
    "from sklearn import linear_model\n",
    "\n",
    "\n",
    "plt.style.use(\"seaborn-darkgrid\") # グラフのスタイルを変換\n",
    "\n",
    "# 部屋の数のカラム（5列目(0始まり)）のみ抽出\n",
    "X_train_single = X_train[:, 5].reshape(-1, 1)\n",
    "X_test_single = X_test[:, 5].reshape(-1, 1)\n",
    "\n",
    "# 単回帰モデルの適用\n",
    "lm_single = linear_model.LinearRegression()\n",
    "lm_single.fit(X_train_single, y_train)\n",
    "\n",
    "# 構築した単回帰モデルで訓練データを予測\n",
    "y_pred_train = lm_single.predict(X_train_single)\n",
    "\n",
    "# 訓練データと学習した単回帰モデルの可視化\n",
    "plt.xlabel(\"RM: num_room\")\n",
    "plt.ylabel(\"MEDV: house_price\")\n",
    "plt.scatter(X_train_single, y_train) #各データ点（散布図）を作図\n",
    "plt.plot(X_train_single, y_pred_train, color=\"red\", linewidth=1) # 回帰した直線を作図\n",
    "plt.show()"
   ]
  },
  {
   "cell_type": "code",
   "execution_count": 11,
   "id": "45e209eb-60ab-47b4-a619-b96b8609d3a9",
   "metadata": {},
   "outputs": [
    {
     "name": "stdout",
     "output_type": "stream",
     "text": [
      "intercept: -3.02\n",
      "coef: 48.60\n"
     ]
    }
   ],
   "source": [
    "# 学習したパラメータ（intercept: バイアス（切片）とcoef: 重み（傾き））の確認\n",
    "\n",
    "print(\"intercept: {:.2f}\".format(lm_single.intercept_))\n",
    "print(\"coef: {:.2f}\".format(lm_single.coef_[0]))"
   ]
  },
  {
   "cell_type": "code",
   "execution_count": 12,
   "id": "67e57e03-87f5-416c-a393-bceebe4e7622",
   "metadata": {},
   "outputs": [
    {
     "name": "stdout",
     "output_type": "stream",
     "text": [
      "Train score: 0.49\n",
      "Test score: 0.47\n"
     ]
    }
   ],
   "source": [
    "# モデルの評価\n",
    "print(\"Train score: {:.2f}\".format(lm_single.score(X_train_single, y_train)))\n",
    "print(\"Test score: {:.2f}\".format(lm_single.score(X_test_single, y_test)))"
   ]
  },
  {
   "cell_type": "markdown",
   "id": "d1f8e41a-321c-45e9-958f-c861c43affe2",
   "metadata": {},
   "source": [
    "↑スコアがtrain, test両者で低いのであまり良くないモデル"
   ]
  },
  {
   "cell_type": "markdown",
   "id": "a194b1f0-597d-46e4-ade5-8a4ac42d454f",
   "metadata": {},
   "source": [
    "### 重回帰モデル（特徴量が複数）の実装"
   ]
  },
  {
   "cell_type": "code",
   "execution_count": 13,
   "id": "ca721da4-d842-413c-a749-a65d48e4907f",
   "metadata": {},
   "outputs": [
    {
     "name": "stdout",
     "output_type": "stream",
     "text": [
      "intercept: 30.93\n",
      "coef: [-412.7109467   -52.24320682 -131.89881469  -12.00413648]\n",
      "====\n",
      "Train: 0.95\n",
      "Test: 0.61\n"
     ]
    }
   ],
   "source": [
    "lm = linear_model.LinearRegression()\n",
    "lm.fit(X_train, y_train)\n",
    "\n",
    "# パラメータ（intercept: バイアス、coef: 重み先頭4個）\n",
    "print(\"intercept: {:.2f}\".format(lm.intercept_))\n",
    "print(\"coef: {}\".format(lm.coef_[:4]))\n",
    "\n",
    "print(\"====\")\n",
    "\n",
    "# モデル評価\n",
    "print(\"Train: {:.2f}\".format(lm.score(X_train, y_train)))\n",
    "print(\"Test: {:.2f}\".format(lm.score(X_test, y_test)))"
   ]
  },
  {
   "cell_type": "markdown",
   "id": "72e6dd9f-4e02-4e3b-b0c4-a3b00f38b062",
   "metadata": {},
   "source": [
    "trainはうまく学習できるようになっている。testも一応向上してるが低い。過学習していると思われ。汎化性能はイマイチか。"
   ]
  },
  {
   "cell_type": "markdown",
   "id": "41ce5415-178a-4d5b-9c63-1356336b16f0",
   "metadata": {},
   "source": [
    "### L2正則化(Ridge回帰)による過学習の抑制"
   ]
  },
  {
   "cell_type": "code",
   "execution_count": 14,
   "id": "efaa7d83-189b-4a4e-ac63-7c68c416982c",
   "metadata": {},
   "outputs": [
    {
     "name": "stdout",
     "output_type": "stream",
     "text": [
      "intercept: 21.39\n",
      "coef: [-1.41368408 -1.55661895 -1.46543409 -0.12661607]\n",
      "====\n",
      "Train: 0.89\n",
      "Test: 0.75\n"
     ]
    }
   ],
   "source": [
    "ridge = linear_model.Ridge(alpha=1.0, random_state=0)\n",
    "ridge.fit(X_train, y_train)\n",
    "\n",
    "print(\"intercept: {:.2f}\".format(ridge.intercept_))\n",
    "print(\"coef: {}\".format(ridge.coef_[:4]))\n",
    "\n",
    "print(\"====\")\n",
    "\n",
    "print(\"Train: {:.2f}\".format(ridge.score(X_train, y_train)))\n",
    "print(\"Test: {:.2f}\".format(ridge.score(X_test, y_test)))"
   ]
  },
  {
   "cell_type": "markdown",
   "id": "a53de2b8-9bff-4cb7-9992-232732da2322",
   "metadata": {},
   "source": [
    "trainは少し下がったが、Testがかなり上がっているので汎化性能が上がり、過学習が抑制されている。\n",
    "重みの絶対値も小さくなっている。"
   ]
  },
  {
   "cell_type": "markdown",
   "id": "fb5c9819-0685-4da8-bbcb-0dadadee15fd",
   "metadata": {},
   "source": [
    "### L1正則化(Lasso)の実装"
   ]
  },
  {
   "cell_type": "code",
   "execution_count": 15,
   "id": "9dc0f2b2-024a-4f93-9480-8472cb9b7d8f",
   "metadata": {},
   "outputs": [
    {
     "name": "stdout",
     "output_type": "stream",
     "text": [
      "<class 'numpy.ndarray'>\n",
      "Number of nonzero parameters: 33\n",
      "====\n",
      "Train: 0.90\n",
      "Test: 0.77\n"
     ]
    }
   ],
   "source": [
    "import numpy as np\n",
    "\n",
    "lasso = linear_model.Lasso(alpha=0.01, max_iter=2000, random_state=0)\n",
    "lasso.fit(X_train, y_train)\n",
    "\n",
    "# 値が0以外の重みパラメータの表示\n",
    "print(type(lasso.coef_))\n",
    "print(\"Number of nonzero parameters: {}\".format(np.count_nonzero(lasso.coef_)))\n",
    "\n",
    "print(\"====\")\n",
    "\n",
    "# モデル評価\n",
    "print(\"Train: {:.2f}\".format(lasso.score(X_train, y_train)))\n",
    "print(\"Test: {:.2f}\".format(lasso.score(X_test, y_test)))"
   ]
  },
  {
   "cell_type": "markdown",
   "id": "e3cf7735-6a1f-49dc-a373-f0a208e98181",
   "metadata": {},
   "source": [
    "- L2正則化もL1正則化も、化学週の抑制に貢献している\n",
    "- L1の場合は一部の特徴量は、重みパラメータが0になることによって考慮されなくなっている\n",
    "    - つまりL1正則化は重要な特徴量だけを残す正則化と解釈することが可能"
   ]
  },
  {
   "cell_type": "markdown",
   "id": "7910f7e8-9d1d-4d5d-8cdd-f89ce92e7083",
   "metadata": {
    "tags": []
   },
   "source": [
    "### <u>ロジスティック回帰によるクラス分類</u>"
   ]
  },
  {
   "cell_type": "markdown",
   "id": "c8373840-6643-4a7b-8401-1b5db08614b9",
   "metadata": {
    "tags": []
   },
   "source": [
    "#### 架空の会員顧客データ作成"
   ]
  },
  {
   "cell_type": "code",
   "execution_count": 16,
   "id": "8a55c724-4c20-40dc-877b-9972f4414855",
   "metadata": {},
   "outputs": [],
   "source": [
    "import numpy as np\n",
    "import pandas as pd\n",
    "import matplotlib.pyplot as plt"
   ]
  },
  {
   "cell_type": "code",
   "execution_count": 17,
   "id": "c1642a1d-fd51-4bec-905a-2849bb7043fb",
   "metadata": {},
   "outputs": [],
   "source": [
    "plt.style.use(\"seaborn-darkgrid\")"
   ]
  },
  {
   "cell_type": "code",
   "execution_count": 18,
   "id": "03f0bae1-9cc2-4334-9aaa-b6e9e7bdb5cb",
   "metadata": {},
   "outputs": [],
   "source": [
    "np.random.seed(0)"
   ]
  },
  {
   "cell_type": "code",
   "execution_count": 19,
   "id": "8f75a3d2-0599-4e26-a0e0-d6fa29b0e429",
   "metadata": {},
   "outputs": [],
   "source": [
    "# 2次元ガウス分布で模擬データ100人分を作成①\n",
    "mean = [10, 10] # 平均値\n",
    "cov = [[10, 3], [3, 10]] # 分散共分散行列\n",
    "x1, y1 = np.random.multivariate_normal(mean, cov, 100).T # 2次元データ作成\n",
    "true_false = np.random.rand(100) > 0.9\n",
    "label1 = np.where(true_false, 1, 0)\n",
    "\n",
    "# 2次元ガウス分布で模擬データ100人分を作成②\n",
    "mean = [20, 20]\n",
    "cov = [[8, 4], [4, 8]]\n",
    "x2, y2 = np.random.multivariate_normal(mean, cov, 100).T\n",
    "true_false = np.random.rand(100) > 0.1\n",
    "label2 = np.where(true_false, 1, 0)\n",
    "\n",
    "# 配列の結合\n",
    "X = (np.r_[x1, x2])\n",
    "Y = (np.r_[y1, y2])\n",
    "label = (np.r_[label1, label2])"
   ]
  },
  {
   "cell_type": "code",
   "execution_count": 20,
   "id": "8201c9ba-26e2-4d75-b85b-b9c0a4ce1bc3",
   "metadata": {},
   "outputs": [
    {
     "data": {
      "text/plain": [
       "(200,)"
      ]
     },
     "execution_count": 20,
     "metadata": {},
     "output_type": "execute_result"
    }
   ],
   "source": [
    "X.shape"
   ]
  },
  {
   "cell_type": "code",
   "execution_count": 21,
   "id": "fb3fcac4-f7a3-427b-90c6-8e69c4e6eb4e",
   "metadata": {},
   "outputs": [
    {
     "data": {
      "text/plain": [
       "(200,)"
      ]
     },
     "execution_count": 21,
     "metadata": {},
     "output_type": "execute_result"
    }
   ],
   "source": [
    "Y.shape"
   ]
  },
  {
   "cell_type": "code",
   "execution_count": 22,
   "id": "6a6ab0d6-1fe7-4919-a1bb-b6165f76dc83",
   "metadata": {},
   "outputs": [
    {
     "data": {
      "text/plain": [
       "(200,)"
      ]
     },
     "execution_count": 22,
     "metadata": {},
     "output_type": "execute_result"
    }
   ],
   "source": [
    "label.shape"
   ]
  },
  {
   "cell_type": "code",
   "execution_count": 23,
   "id": "1fb05a5f-f109-4ccb-ad20-ea256be260a7",
   "metadata": {},
   "outputs": [
    {
     "data": {
      "image/png": "[encoded data removed]",
      "text/plain": [
       "<Figure size 432x288 with 1 Axes>"
      ]
     },
     "metadata": {},
     "output_type": "display_data"
    }
   ],
   "source": [
    "plt.scatter(X[label==1], Y[label==1], marker=\"^\", s=30, c=\"blue\", edgecolors=\"none\", label=\"1:continue\")\n",
    "plt.scatter(X[label==0], Y[label==0], marker=\",\", s=30, c=\"red\", edgecolors=\"none\", label=\"0:withdraw\")\n",
    "\n",
    "plt.xlabel(\"Annual number of purchase\")\n",
    "plt.ylabel(\"Average purchase price\")\n",
    "\n",
    "plt.legend(loc=\"lower right\") # 凡例の表示位置を制御\n",
    "plt.show()"
   ]
  },
  {
   "cell_type": "markdown",
   "id": "c7304ec3-3c0d-4638-be2a-ba27eddfc117",
   "metadata": {},
   "source": [
    "#### モデル作成"
   ]
  },
  {
   "cell_type": "code",
   "execution_count": 24,
   "id": "3e2e118c-0986-4fb4-b4d7-ec615285d0a7",
   "metadata": {},
   "outputs": [],
   "source": [
    "from sklearn import linear_model\n",
    "from sklearn.model_selection import train_test_split\n",
    "from mlxtend.plotting import plot_decision_regions"
   ]
  },
  {
   "cell_type": "code",
   "execution_count": 25,
   "id": "8bd820bd-0077-4cd7-a244-4348dd04bc6b",
   "metadata": {},
   "outputs": [],
   "source": [
    "Data = np.c_[X, Y]\n",
    "Data.shape\n",
    "X_train, X_test, y_train, y_test = train_test_split(Data, label, random_state=0)"
   ]
  },
  {
   "cell_type": "code",
   "execution_count": 26,
   "id": "54f3f3f6-5af2-45dd-ba24-04217e116bc4",
   "metadata": {},
   "outputs": [
    {
     "data": {
      "text/plain": [
       "LogisticRegression(random_state=0)"
      ]
     },
     "execution_count": 26,
     "metadata": {},
     "output_type": "execute_result"
    }
   ],
   "source": [
    "clf = linear_model.LogisticRegression(random_state=0) #ロジスティック回帰モデルの読み込み\n",
    "clf.fit(X_train, y_train)"
   ]
  },
  {
   "cell_type": "code",
   "execution_count": 27,
   "id": "3c7f0c56-dcae-43c0-b9fa-f14a7df1f78a",
   "metadata": {},
   "outputs": [
    {
     "data": {
      "text/plain": [
       "<AxesSubplot:>"
      ]
     },
     "execution_count": 27,
     "metadata": {},
     "output_type": "execute_result"
    },
    {
     "data": {
      "image/png": "[encoded data removed]",
      "text/plain": [
       "<Figure size 432x288 with 1 Axes>"
      ]
     },
     "metadata": {},
     "output_type": "display_data"
    }
   ],
   "source": [
    "plot_decision_regions(X_test, y_test, clf=clf, legend=2)"
   ]
  },
  {
   "cell_type": "code",
   "execution_count": 28,
   "id": "35911884-6c59-4038-bb6f-40011f897433",
   "metadata": {},
   "outputs": [
    {
     "name": "stdout",
     "output_type": "stream",
     "text": [
      "acc-train: 0.88\n",
      "acc-test: 0.88\n"
     ]
    }
   ],
   "source": [
    "print(\"acc-train: {:.2f}\".format(clf.score(X_train, y_train)))\n",
    "print(\"acc-test: {:.2f}\".format(clf.score(X_test, y_test)))"
   ]
  },
  {
   "cell_type": "code",
   "execution_count": 29,
   "id": "3b201d1a-634d-4681-b081-b2377ff25db5",
   "metadata": {},
   "outputs": [
    {
     "name": "stdout",
     "output_type": "stream",
     "text": [
      "新たな顧客2人のラベルはそれぞれ1, 0です。\n",
      "[1 0]\n",
      "<class 'numpy.ndarray'>\n"
     ]
    }
   ],
   "source": [
    "label_prenew = clf.predict([[20, 15], [10, 20]])\n",
    "print(\"新たな顧客2人のラベルはそれぞれ{}, {}です。\".format(label_prenew[0], label_prenew[1]))\n",
    "print(label_prenew)\n",
    "print(type(label_prenew))"
   ]
  },
  {
   "cell_type": "markdown",
   "id": "c580f844-7a9f-4ac4-ad87-3e1ec3693c8a",
   "metadata": {},
   "source": [
    "### <u>SVC（サポートベクターマシーンクラシフィケーション）によるクラス分類</u>"
   ]
  },
  {
   "cell_type": "code",
   "execution_count": 30,
   "id": "1034bfa5-68c3-4ba8-a378-0d9d464012c3",
   "metadata": {},
   "outputs": [],
   "source": [
    "import numpy as np\n",
    "import pandas as pd\n",
    "import seaborn as sns\n",
    "import matplotlib.pyplot as plt\n",
    "from sklearn.linear_model import LinearRegression\n",
    "from sklearn import preprocessing\n",
    "\n",
    "plt.style.use(\"seaborn-darkgrid\")"
   ]
  },
  {
   "cell_type": "code",
   "execution_count": 31,
   "id": "402666a0-688a-44be-b62f-321b385f3340",
   "metadata": {},
   "outputs": [
    {
     "data": {
      "image/png": "[encoded data removed]",
      "text/plain": [
       "<Figure size 432x288 with 1 Axes>"
      ]
     },
     "metadata": {},
     "output_type": "display_data"
    }
   ],
   "source": [
    "# データの準備①\n",
    "X = np.zeros((20,2))\n",
    "X[0:10, 1] = range(0, 10)\n",
    "X[10:20, 1] = range(0, 10)\n",
    "X[0, 0] = 1.0\n",
    "X[9, 0] = 1.0\n",
    "X[1:9, 0] = 3.0\n",
    "X[10:20, 0] = range(-1, -11, -1)\n",
    "X[9, 0] = 1\n",
    "X[19, 0] = -1\n",
    "\n",
    "y = np.zeros((20))\n",
    "y[10:20] = 1.0\n",
    "y = y.astype(np.int8)\n",
    "\n",
    "\n",
    "plt.scatter(X[:, 0], X[:, 1], c=y, cmap=plt.cm.coolwarm)\n",
    "plt.show()"
   ]
  },
  {
   "cell_type": "markdown",
   "id": "53959abc-dea8-4b71-b1a8-71126145e4ee",
   "metadata": {},
   "source": [
    "- ロジスティック回帰"
   ]
  },
  {
   "cell_type": "code",
   "execution_count": 32,
   "id": "c21224df-1ec5-4b70-b480-f8c1155b5a4c",
   "metadata": {},
   "outputs": [
    {
     "name": "stdout",
     "output_type": "stream",
     "text": [
      "(20, 2)\n"
     ]
    },
    {
     "data": {
      "text/plain": [
       "<AxesSubplot:>"
      ]
     },
     "execution_count": 32,
     "metadata": {},
     "output_type": "execute_result"
    },
    {
     "data": {
      "image/png": "[encoded data removed]",
      "text/plain": [
       "<Figure size 432x288 with 1 Axes>"
      ]
     },
     "metadata": {},
     "output_type": "display_data"
    }
   ],
   "source": [
    "from mlxtend.plotting import plot_decision_regions\n",
    "from sklearn.linear_model import LogisticRegression\n",
    "\n",
    "\n",
    "# 入力を正規化\n",
    "sc = preprocessing.StandardScaler()\n",
    "sc.fit(X)\n",
    "X_std = sc.transform(X)\n",
    "print(X_std.shape)\n",
    "\n",
    "# ロジスティック回帰\n",
    "lr = LogisticRegression(random_state=0)\n",
    "lr.fit(X_std, y)\n",
    "plot_decision_regions(X_std, y, clf=lr)"
   ]
  },
  {
   "cell_type": "markdown",
   "id": "7f542319-9fbb-4d71-849a-0e87d15d50df",
   "metadata": {},
   "source": [
    "- ハードマージンSVC"
   ]
  },
  {
   "cell_type": "code",
   "execution_count": 33,
   "id": "d3453a88-d142-4d84-a1b7-1f927cca608a",
   "metadata": {},
   "outputs": [
    {
     "data": {
      "text/plain": [
       "<AxesSubplot:>"
      ]
     },
     "execution_count": 33,
     "metadata": {},
     "output_type": "execute_result"
    },
    {
     "data": {
      "image/png": "[encoded data removed]",
      "text/plain": [
       "<Figure size 432x288 with 1 Axes>"
      ]
     },
     "metadata": {},
     "output_type": "display_data"
    }
   ],
   "source": [
    "from sklearn import svm\n",
    "\n",
    "\n",
    "# LinearSVCの適用\n",
    "clf = svm.LinearSVC(random_state=0)\n",
    "clf.fit(X_std, y)\n",
    "plot_decision_regions(X_std, y, clf)"
   ]
  },
  {
   "cell_type": "code",
   "execution_count": 34,
   "id": "476c6ac9-0ba7-47e6-989a-42335a7bb788",
   "metadata": {},
   "outputs": [
    {
     "data": {
      "image/png": "[encoded data removed]",
      "text/plain": [
       "<Figure size 432x288 with 1 Axes>"
      ]
     },
     "metadata": {},
     "output_type": "display_data"
    }
   ],
   "source": [
    "# データの準備②\n",
    "X[19, 0] = 2\n",
    "plt.scatter(X[:, 0], X[:, 1], c=y, cmap=plt.cm.coolwarm)\n",
    "plt.show()"
   ]
  },
  {
   "cell_type": "markdown",
   "id": "3f149d98-80a6-4e11-83c7-2b6cf6729b2e",
   "metadata": {},
   "source": [
    "- 線形分離できないデータに対してのLinearSVC"
   ]
  },
  {
   "cell_type": "code",
   "execution_count": 35,
   "id": "386e7b5e-7e6e-4ecf-8f02-917369aafd04",
   "metadata": {},
   "outputs": [
    {
     "data": {
      "text/plain": [
       "<AxesSubplot:>"
      ]
     },
     "execution_count": 35,
     "metadata": {},
     "output_type": "execute_result"
    },
    {
     "data": {
      "image/png": "[encoded data removed]",
      "text/plain": [
       "<Figure size 432x288 with 1 Axes>"
      ]
     },
     "metadata": {},
     "output_type": "display_data"
    }
   ],
   "source": [
    "sc = preprocessing.StandardScaler()\n",
    "sc.fit(X)\n",
    "X_std = sc.transform(X)\n",
    "\n",
    "clf = svm.LinearSVC(random_state=0)\n",
    "clf.fit(X_std, y)\n",
    "plot_decision_regions(X_std, y, clf=clf)"
   ]
  },
  {
   "cell_type": "markdown",
   "id": "fc4b4531-b322-438b-be23-47cd6e72fc28",
   "metadata": {},
   "source": [
    "- ソフトマージンSVCについて\n",
    "    - 外れ値がある場合、サポートベクトルと外れ値の距離の大きさをペナルティと呼ぶ。マージンの最大化とペナルティの最小化をどれくらい両立させたいかをControl(C)を定義して決める。Cが大きいほど、ペナルティ最小化重視、つまり外れ値に引っ張られた境界線となる。Cが小さいほど、マージン最大化重視、つまり外れ値は無視した境界線となる。デフォルトはC=1.0"
   ]
  },
  {
   "cell_type": "code",
   "execution_count": 36,
   "id": "e8750d5d-7750-4690-a8b6-476c158d3e8f",
   "metadata": {},
   "outputs": [
    {
     "data": {
      "text/plain": [
       "<AxesSubplot:>"
      ]
     },
     "execution_count": 36,
     "metadata": {},
     "output_type": "execute_result"
    },
    {
     "data": {
      "image/png": "[encoded data removed]",
      "text/plain": [
       "<Figure size 432x288 with 1 Axes>"
      ]
     },
     "metadata": {},
     "output_type": "display_data"
    }
   ],
   "source": [
    "# ソフトマージンSVC(C=0.2)の適用\n",
    "clf = svm.LinearSVC(C=0.2, random_state=0)\n",
    "clf.fit(X_std, y)\n",
    "plot_decision_regions(X_std, y, clf=clf)"
   ]
  },
  {
   "cell_type": "markdown",
   "id": "0b08ff70-730f-41f1-bac9-58a55eaf9d56",
   "metadata": {},
   "source": [
    "- 線形の境界線を作る（今回）: Linear SVC\n",
    "- 非線形の境界線を造るSVC: Kernel SVC"
   ]
  },
  {
   "cell_type": "markdown",
   "id": "b98db2b4-e2c3-4bed-b76b-16c728add496",
   "metadata": {},
   "source": [
    "### <u>決定木によるクラス分類</u>"
   ]
  },
  {
   "cell_type": "code",
   "execution_count": 37,
   "id": "33c35ae0-5575-47f2-a43f-7ecd56e26b6b",
   "metadata": {},
   "outputs": [
    {
     "name": "stdout",
     "output_type": "stream",
     "text": [
      "(178, 13)\n",
      "(178,)\n"
     ]
    }
   ],
   "source": [
    "from sklearn.datasets import load_wine # データセット(Wineデータセット)のダウンロード\n",
    "from sklearn.tree import DecisionTreeClassifier\n",
    "from sklearn.model_selection import train_test_split\n",
    "\n",
    "\n",
    "# データセットの準備\n",
    "wine = load_wine()\n",
    "print(wine.data.shape)\n",
    "print(wine.target.shape)\n",
    "X_train, X_test, y_train, y_test = train_test_split(wine.data, wine.target, test_size=0.25, random_state=41)"
   ]
  },
  {
   "cell_type": "code",
   "execution_count": 38,
   "id": "583d87d9-0385-482a-918b-09f26349ae03",
   "metadata": {},
   "outputs": [
    {
     "name": "stdout",
     "output_type": "stream",
     "text": [
      "Train: 1.000\n",
      "Test: 0.911\n"
     ]
    }
   ],
   "source": [
    "# 決定木\n",
    "tree = DecisionTreeClassifier(max_depth=None, criterion=\"gini\", random_state=41)\n",
    "tree.fit(X_train, y_train)\n",
    "\n",
    "# 精度 (Accuracy)\n",
    "print(\"Train: {:.3f}\".format(tree.score(X_train, y_train)))\n",
    "print(\"Test: {:.3f}\".format(tree.score(X_test, y_test)))"
   ]
  },
  {
   "cell_type": "code",
   "execution_count": 39,
   "id": "9513f22e-9975-4903-8deb-6ce41fafa297",
   "metadata": {},
   "outputs": [],
   "source": [
    "import graphviz\n",
    "from sklearn.tree import export_graphviz"
   ]
  },
  {
   "cell_type": "code",
   "execution_count": 40,
   "id": "76f701ca-d4dc-41c4-a6ef-fb62d48a42f5",
   "metadata": {},
   "outputs": [
    {
     "data": {
      "text/plain": [
       "['alcohol',\n",
       " 'malic_acid',\n",
       " 'ash',\n",
       " 'alcalinity_of_ash',\n",
       " 'magnesium',\n",
       " 'total_phenols',\n",
       " 'flavanoids',\n",
       " 'nonflavanoid_phenols',\n",
       " 'proanthocyanins',\n",
       " 'color_intensity',\n",
       " 'hue',\n",
       " 'od280/od315_of_diluted_wines',\n",
       " 'proline']"
      ]
     },
     "execution_count": 40,
     "metadata": {},
     "output_type": "execute_result"
    }
   ],
   "source": [
    "wine.feature_names"
   ]
  },
  {
   "cell_type": "code",
   "execution_count": 41,
   "id": "0288da44-6c88-4f10-bc00-a8b5136767ce",
   "metadata": {},
   "outputs": [],
   "source": [
    "# Graphviz形式で決定木をエクスポート\n",
    "\n",
    "dot_data = export_graphviz(tree, out_file=None, impurity=False, filled=True, feature_names=wine.feature_names, class_names=wine.target_names\n",
    ")\n",
    "\n",
    "# Graphviz形式の決定木を表示\n",
    "graph = graphviz.Source(dot_data)"
   ]
  },
  {
   "cell_type": "code",
   "execution_count": 42,
   "id": "7ec67716-e397-4e47-be3d-8fac91575aa4",
   "metadata": {},
   "outputs": [
    {
     "data": {
      "image/svg+xml": [
       "<?xml version=\"1.0\" encoding=\"UTF-8\" standalone=\"no\"?>\n",
       "<!DOCTYPE svg PUBLIC \"-//W3C//DTD SVG 1.1//EN\"\n",
       " \"http://www.w3.org/Graphics/SVG/1.1/DTD/svg11.dtd\">\n",
       "<!-- Generated by graphviz version 3.0.0 (20220226.1711)\n",
       " -->\n",
       "<!-- Title: Tree Pages: 1 -->\n",
       "<svg width=\"409pt\" height=\"477pt\"\n",
       " viewBox=\"0.00 0.00 409.00 477.00\" xmlns=\"http://www.w3.org/2000/svg\" xmlns:xlink=\"http://www.w3.org/1999/xlink\">\n",
       "<g id=\"graph0\" class=\"graph\" transform=\"scale(1 1) rotate(0) translate(4 473)\">\n",
       "<title>Tree</title>\n",
       "<polygon fill=\"white\" stroke=\"transparent\" points=\"-4,4 -4,-473 405,-473 405,4 -4,4\"/>\n",
       "<!-- 0 -->\n",
       "<g id=\"node1\" class=\"node\">\n",
       "<title>0</title>\n",
       "<polygon fill=\"#eafcf2\" stroke=\"black\" points=\"207,-469 54,-469 54,-401 207,-401 207,-469\"/>\n",
       "<text text-anchor=\"middle\" x=\"130.5\" y=\"-453.8\" font-family=\"Helvetica,sans-Serif\" font-size=\"14.00\">color_intensity &lt;= 3.46</text>\n",
       "<text text-anchor=\"middle\" x=\"130.5\" y=\"-438.8\" font-family=\"Helvetica,sans-Serif\" font-size=\"14.00\">samples = 133</text>\n",
       "<text text-anchor=\"middle\" x=\"130.5\" y=\"-423.8\" font-family=\"Helvetica,sans-Serif\" font-size=\"14.00\">value = [47, 56, 30]</text>\n",
       "<text text-anchor=\"middle\" x=\"130.5\" y=\"-408.8\" font-family=\"Helvetica,sans-Serif\" font-size=\"14.00\">class = class_1</text>\n",
       "</g>\n",
       "<!-- 1 -->\n",
       "<g id=\"node2\" class=\"node\">\n",
       "<title>1</title>\n",
       "<polygon fill=\"#39e581\" stroke=\"black\" points=\"117,-357.5 0,-357.5 0,-304.5 117,-304.5 117,-357.5\"/>\n",
       "<text text-anchor=\"middle\" x=\"58.5\" y=\"-342.3\" font-family=\"Helvetica,sans-Serif\" font-size=\"14.00\">samples = 49</text>\n",
       "<text text-anchor=\"middle\" x=\"58.5\" y=\"-327.3\" font-family=\"Helvetica,sans-Serif\" font-size=\"14.00\">value = [0, 49, 0]</text>\n",
       "<text text-anchor=\"middle\" x=\"58.5\" y=\"-312.3\" font-family=\"Helvetica,sans-Serif\" font-size=\"14.00\">class = class_1</text>\n",
       "</g>\n",
       "<!-- 0&#45;&gt;1 -->\n",
       "<g id=\"edge1\" class=\"edge\">\n",
       "<title>0&#45;&gt;1</title>\n",
       "<path fill=\"none\" stroke=\"black\" d=\"M107.12,-400.88C99.21,-389.67 90.35,-377.13 82.4,-365.85\"/>\n",
       "<polygon fill=\"black\" stroke=\"black\" points=\"85.14,-363.67 76.51,-357.52 79.42,-367.71 85.14,-363.67\"/>\n",
       "<text text-anchor=\"middle\" x=\"72.27\" y=\"-378.46\" font-family=\"Helvetica,sans-Serif\" font-size=\"14.00\">True</text>\n",
       "</g>\n",
       "<!-- 2 -->\n",
       "<g id=\"node3\" class=\"node\">\n",
       "<title>2</title>\n",
       "<polygon fill=\"#f7d7c1\" stroke=\"black\" points=\"270,-365 135,-365 135,-297 270,-297 270,-365\"/>\n",
       "<text text-anchor=\"middle\" x=\"202.5\" y=\"-349.8\" font-family=\"Helvetica,sans-Serif\" font-size=\"14.00\">flavanoids &lt;= 1.575</text>\n",
       "<text text-anchor=\"middle\" x=\"202.5\" y=\"-334.8\" font-family=\"Helvetica,sans-Serif\" font-size=\"14.00\">samples = 84</text>\n",
       "<text text-anchor=\"middle\" x=\"202.5\" y=\"-319.8\" font-family=\"Helvetica,sans-Serif\" font-size=\"14.00\">value = [47, 7, 30]</text>\n",
       "<text text-anchor=\"middle\" x=\"202.5\" y=\"-304.8\" font-family=\"Helvetica,sans-Serif\" font-size=\"14.00\">class = class_0</text>\n",
       "</g>\n",
       "<!-- 0&#45;&gt;2 -->\n",
       "<g id=\"edge2\" class=\"edge\">\n",
       "<title>0&#45;&gt;2</title>\n",
       "<path fill=\"none\" stroke=\"black\" d=\"M153.88,-400.88C160.04,-392.15 166.76,-382.62 173.2,-373.51\"/>\n",
       "<polygon fill=\"black\" stroke=\"black\" points=\"176.09,-375.49 178.99,-365.3 170.37,-371.45 176.09,-375.49\"/>\n",
       "<text text-anchor=\"middle\" x=\"183.24\" y=\"-386.24\" font-family=\"Helvetica,sans-Serif\" font-size=\"14.00\">False</text>\n",
       "</g>\n",
       "<!-- 3 -->\n",
       "<g id=\"node4\" class=\"node\">\n",
       "<title>3</title>\n",
       "<polygon fill=\"#8139e5\" stroke=\"black\" points=\"193,-253.5 76,-253.5 76,-200.5 193,-200.5 193,-253.5\"/>\n",
       "<text text-anchor=\"middle\" x=\"134.5\" y=\"-238.3\" font-family=\"Helvetica,sans-Serif\" font-size=\"14.00\">samples = 30</text>\n",
       "<text text-anchor=\"middle\" x=\"134.5\" y=\"-223.3\" font-family=\"Helvetica,sans-Serif\" font-size=\"14.00\">value = [0, 0, 30]</text>\n",
       "<text text-anchor=\"middle\" x=\"134.5\" y=\"-208.3\" font-family=\"Helvetica,sans-Serif\" font-size=\"14.00\">class = class_2</text>\n",
       "</g>\n",
       "<!-- 2&#45;&gt;3 -->\n",
       "<g id=\"edge3\" class=\"edge\">\n",
       "<title>2&#45;&gt;3</title>\n",
       "<path fill=\"none\" stroke=\"black\" d=\"M180.42,-296.88C172.94,-285.67 164.58,-273.13 157.07,-261.85\"/>\n",
       "<polygon fill=\"black\" stroke=\"black\" points=\"159.97,-259.9 151.51,-253.52 154.15,-263.78 159.97,-259.9\"/>\n",
       "</g>\n",
       "<!-- 4 -->\n",
       "<g id=\"node5\" class=\"node\">\n",
       "<title>4</title>\n",
       "<polygon fill=\"#e99456\" stroke=\"black\" points=\"328,-261 211,-261 211,-193 328,-193 328,-261\"/>\n",
       "<text text-anchor=\"middle\" x=\"269.5\" y=\"-245.8\" font-family=\"Helvetica,sans-Serif\" font-size=\"14.00\">proline &lt;= 724.5</text>\n",
       "<text text-anchor=\"middle\" x=\"269.5\" y=\"-230.8\" font-family=\"Helvetica,sans-Serif\" font-size=\"14.00\">samples = 54</text>\n",
       "<text text-anchor=\"middle\" x=\"269.5\" y=\"-215.8\" font-family=\"Helvetica,sans-Serif\" font-size=\"14.00\">value = [47, 7, 0]</text>\n",
       "<text text-anchor=\"middle\" x=\"269.5\" y=\"-200.8\" font-family=\"Helvetica,sans-Serif\" font-size=\"14.00\">class = class_0</text>\n",
       "</g>\n",
       "<!-- 2&#45;&gt;4 -->\n",
       "<g id=\"edge4\" class=\"edge\">\n",
       "<title>2&#45;&gt;4</title>\n",
       "<path fill=\"none\" stroke=\"black\" d=\"M224.25,-296.88C229.93,-288.24 236.12,-278.82 242.05,-269.79\"/>\n",
       "<polygon fill=\"black\" stroke=\"black\" points=\"245.06,-271.58 247.63,-261.3 239.21,-267.74 245.06,-271.58\"/>\n",
       "</g>\n",
       "<!-- 5 -->\n",
       "<g id=\"node6\" class=\"node\">\n",
       "<title>5</title>\n",
       "<polygon fill=\"#55e993\" stroke=\"black\" points=\"266,-157 127,-157 127,-89 266,-89 266,-157\"/>\n",
       "<text text-anchor=\"middle\" x=\"196.5\" y=\"-141.8\" font-family=\"Helvetica,sans-Serif\" font-size=\"14.00\">malic_acid &lt;= 2.895</text>\n",
       "<text text-anchor=\"middle\" x=\"196.5\" y=\"-126.8\" font-family=\"Helvetica,sans-Serif\" font-size=\"14.00\">samples = 8</text>\n",
       "<text text-anchor=\"middle\" x=\"196.5\" y=\"-111.8\" font-family=\"Helvetica,sans-Serif\" font-size=\"14.00\">value = [1, 7, 0]</text>\n",
       "<text text-anchor=\"middle\" x=\"196.5\" y=\"-96.8\" font-family=\"Helvetica,sans-Serif\" font-size=\"14.00\">class = class_1</text>\n",
       "</g>\n",
       "<!-- 4&#45;&gt;5 -->\n",
       "<g id=\"edge5\" class=\"edge\">\n",
       "<title>4&#45;&gt;5</title>\n",
       "<path fill=\"none\" stroke=\"black\" d=\"M245.8,-192.88C239.55,-184.15 232.73,-174.62 226.21,-165.51\"/>\n",
       "<polygon fill=\"black\" stroke=\"black\" points=\"229,-163.39 220.33,-157.3 223.31,-167.47 229,-163.39\"/>\n",
       "</g>\n",
       "<!-- 8 -->\n",
       "<g id=\"node9\" class=\"node\">\n",
       "<title>8</title>\n",
       "<polygon fill=\"#e58139\" stroke=\"black\" points=\"401,-149.5 284,-149.5 284,-96.5 401,-96.5 401,-149.5\"/>\n",
       "<text text-anchor=\"middle\" x=\"342.5\" y=\"-134.3\" font-family=\"Helvetica,sans-Serif\" font-size=\"14.00\">samples = 46</text>\n",
       "<text text-anchor=\"middle\" x=\"342.5\" y=\"-119.3\" font-family=\"Helvetica,sans-Serif\" font-size=\"14.00\">value = [46, 0, 0]</text>\n",
       "<text text-anchor=\"middle\" x=\"342.5\" y=\"-104.3\" font-family=\"Helvetica,sans-Serif\" font-size=\"14.00\">class = class_0</text>\n",
       "</g>\n",
       "<!-- 4&#45;&gt;8 -->\n",
       "<g id=\"edge8\" class=\"edge\">\n",
       "<title>4&#45;&gt;8</title>\n",
       "<path fill=\"none\" stroke=\"black\" d=\"M293.2,-192.88C301.23,-181.67 310.2,-169.13 318.27,-157.85\"/>\n",
       "<polygon fill=\"black\" stroke=\"black\" points=\"321.26,-159.69 324.24,-149.52 315.57,-155.61 321.26,-159.69\"/>\n",
       "</g>\n",
       "<!-- 6 -->\n",
       "<g id=\"node7\" class=\"node\">\n",
       "<title>6</title>\n",
       "<polygon fill=\"#39e581\" stroke=\"black\" points=\"187.5,-53 77.5,-53 77.5,0 187.5,0 187.5,-53\"/>\n",
       "<text text-anchor=\"middle\" x=\"132.5\" y=\"-37.8\" font-family=\"Helvetica,sans-Serif\" font-size=\"14.00\">samples = 7</text>\n",
       "<text text-anchor=\"middle\" x=\"132.5\" y=\"-22.8\" font-family=\"Helvetica,sans-Serif\" font-size=\"14.00\">value = [0, 7, 0]</text>\n",
       "<text text-anchor=\"middle\" x=\"132.5\" y=\"-7.8\" font-family=\"Helvetica,sans-Serif\" font-size=\"14.00\">class = class_1</text>\n",
       "</g>\n",
       "<!-- 5&#45;&gt;6 -->\n",
       "<g id=\"edge6\" class=\"edge\">\n",
       "<title>5&#45;&gt;6</title>\n",
       "<path fill=\"none\" stroke=\"black\" d=\"M174.12,-88.95C168.11,-80.07 161.6,-70.46 155.55,-61.54\"/>\n",
       "<polygon fill=\"black\" stroke=\"black\" points=\"158.44,-59.55 149.93,-53.24 152.64,-63.48 158.44,-59.55\"/>\n",
       "</g>\n",
       "<!-- 7 -->\n",
       "<g id=\"node8\" class=\"node\">\n",
       "<title>7</title>\n",
       "<polygon fill=\"#e58139\" stroke=\"black\" points=\"315.5,-53 205.5,-53 205.5,0 315.5,0 315.5,-53\"/>\n",
       "<text text-anchor=\"middle\" x=\"260.5\" y=\"-37.8\" font-family=\"Helvetica,sans-Serif\" font-size=\"14.00\">samples = 1</text>\n",
       "<text text-anchor=\"middle\" x=\"260.5\" y=\"-22.8\" font-family=\"Helvetica,sans-Serif\" font-size=\"14.00\">value = [1, 0, 0]</text>\n",
       "<text text-anchor=\"middle\" x=\"260.5\" y=\"-7.8\" font-family=\"Helvetica,sans-Serif\" font-size=\"14.00\">class = class_0</text>\n",
       "</g>\n",
       "<!-- 5&#45;&gt;7 -->\n",
       "<g id=\"edge7\" class=\"edge\">\n",
       "<title>5&#45;&gt;7</title>\n",
       "<path fill=\"none\" stroke=\"black\" d=\"M218.88,-88.95C224.89,-80.07 231.4,-70.46 237.45,-61.54\"/>\n",
       "<polygon fill=\"black\" stroke=\"black\" points=\"240.36,-63.48 243.07,-53.24 234.56,-59.55 240.36,-63.48\"/>\n",
       "</g>\n",
       "</g>\n",
       "</svg>\n"
      ],
      "text/plain": [
       "<graphviz.sources.Source at 0x288120ca0>"
      ]
     },
     "execution_count": 42,
     "metadata": {},
     "output_type": "execute_result"
    }
   ],
   "source": [
    "graph"
   ]
  },
  {
   "cell_type": "markdown",
   "id": "9f35cc90-f7c2-472f-a07e-18828e72513b",
   "metadata": {},
   "source": [
    "木の深さを制限しないと過学習を起こす"
   ]
  },
  {
   "cell_type": "code",
   "execution_count": 43,
   "id": "b9799e64-6509-4a83-8b01-18eb830e898e",
   "metadata": {},
   "outputs": [
    {
     "name": "stdout",
     "output_type": "stream",
     "text": [
      "Train: 0.992\n",
      "Test: 0.933\n"
     ]
    }
   ],
   "source": [
    "# 決定木\n",
    "tree = DecisionTreeClassifier(max_depth=3, criterion=\"gini\", random_state=41)\n",
    "tree.fit(X_train, y_train)\n",
    "\n",
    "# 精度 (Accuracy)\n",
    "print(\"Train: {:.3f}\".format(tree.score(X_train, y_train)))\n",
    "print(\"Test: {:.3f}\".format(tree.score(X_test, y_test)))"
   ]
  },
  {
   "cell_type": "markdown",
   "id": "68e57939-f287-4e9b-9ca7-dd60b47f5f7b",
   "metadata": {},
   "source": [
    "決定木を使うとどの特徴量がどれくらい重要かを定量的に測ることが可能"
   ]
  },
  {
   "cell_type": "code",
   "execution_count": 78,
   "id": "3896f7e5-839e-4c6b-8ab5-d6ef5fe9be40",
   "metadata": {},
   "outputs": [
    {
     "data": {
      "image/png": "[encoded data removed]",
      "text/plain": [
       "<Figure size 432x288 with 1 Axes>"
      ]
     },
     "metadata": {},
     "output_type": "display_data"
    }
   ],
   "source": [
    "import numpy as np\n",
    "import matplotlib.pyplot as plt\n",
    "plt.style.use(\"seaborn-darkgrid\")\n",
    "\n",
    "# 特徴量の重要度を可視化\n",
    "n_features = wine.data.shape[1]\n",
    "plt.title(\"Feature Importances\")\n",
    "plt.bar(range(n_features), tree.feature_importances_, align=\"center\")\n",
    "plt.xticks(range(n_features), wine.feature_names, rotation=90)\n",
    "plt.xlim([-1, X_train.shape[1]])\n",
    "plt.show()"
   ]
  },
  {
   "cell_type": "markdown",
   "id": "7ce0ca70-15ad-4ef7-bd25-5d562baacc5f",
   "metadata": {},
   "source": [
    "### <u>ランダムフォレストによるクラス分類</u>"
   ]
  },
  {
   "cell_type": "code",
   "execution_count": 70,
   "id": "e5a12e90-feb6-4484-bb41-50497bf3dfb2",
   "metadata": {},
   "outputs": [
    {
     "name": "stdout",
     "output_type": "stream",
     "text": [
      "Train: 0.992\n",
      "Test: 0.978\n"
     ]
    }
   ],
   "source": [
    "from sklearn.ensemble import RandomForestClassifier\n",
    "\n",
    "\n",
    "forest = RandomForestClassifier(n_estimators=7, max_features=3, max_depth=3, criterion=\"gini\", random_state=41)\n",
    "forest.fit(X_train, y_train)\n",
    "\n",
    "print(\"Train: {:.3f}\".format(forest.score(X_train, y_train)))\n",
    "print(\"Test: {:.3f}\".format(forest.score(X_test, y_test)))"
   ]
  },
  {
   "cell_type": "code",
   "execution_count": 79,
   "id": "dcc2686d-e72e-4a2e-9c80-aa61a2c65b91",
   "metadata": {},
   "outputs": [
    {
     "data": {
      "image/png": "[encoded data removed]",
      "text/plain": [
       "<Figure size 432x288 with 1 Axes>"
      ]
     },
     "metadata": {},
     "output_type": "display_data"
    }
   ],
   "source": [
    "plt.style.use(\"seaborn-darkgrid\")\n",
    "\n",
    "n_features = wine.data.shape[1]\n",
    "plt.title(\"Feature Importances\")\n",
    "plt.bar(range(n_features), forest.feature_importances_, align=\"center\")\n",
    "plt.xticks(range(n_features), wine.feature_names, rotation=90)\n",
    "plt.xlim([-1, X_train.shape[1]])\n",
    "plt.show()"
   ]
  },
  {
   "cell_type": "markdown",
   "id": "de3aa548-ee68-40b0-b81b-8c9602b512c5",
   "metadata": {},
   "source": [
    "#### ランダムフォレストの意義\n",
    "- 決定木は過学習しやすい\n",
    "- ランダムフォレストでは２つのランダム性を導入して過学習を抑制している。\n",
    "    - データのランダム性\n",
    "    - 特徴量のランダム性"
   ]
  },
  {
   "cell_type": "markdown",
   "id": "212cbebb-c53e-4b63-838c-bf6e5551310d",
   "metadata": {},
   "source": [
    "### <u>Naive Bayesによるテキストデータの分類</u>"
   ]
  },
  {
   "cell_type": "code",
   "execution_count": 91,
   "id": "9253acca-fd08-4225-8bbb-8968e15754ca",
   "metadata": {},
   "outputs": [],
   "source": [
    "# データ準備\n",
    "from sklearn.datasets import fetch_20newsgroups\n",
    "from pprint import pprint\n",
    "\n",
    "train_set = fetch_20newsgroups(subset=\"train\", random_state=42)\n",
    "test_set = fetch_20newsgroups(subset=\"test\", random_state=42)"
   ]
  },
  {
   "cell_type": "code",
   "execution_count": 90,
   "id": "4eacc931-793d-4199-bf39-8831712aa9a8",
   "metadata": {},
   "outputs": [
    {
     "name": "stdout",
     "output_type": "stream",
     "text": [
      "11314\n",
      "11314\n"
     ]
    }
   ],
   "source": [
    "print(len(train_set.data))\n",
    "print(len(train_set.target))"
   ]
  },
  {
   "cell_type": "code",
   "execution_count": 92,
   "id": "c3be7898-658d-432b-8d9b-8c474bbd0112",
   "metadata": {},
   "outputs": [],
   "source": [
    "X_train = train_set.data\n",
    "y_train = train_set.target\n",
    "X_test = test_set.data\n",
    "y_test = test_set.target"
   ]
  },
  {
   "cell_type": "code",
   "execution_count": 93,
   "id": "3f43e8df-4ce9-4b20-8249-95668a883278",
   "metadata": {},
   "outputs": [
    {
     "name": "stdout",
     "output_type": "stream",
     "text": [
      "カテゴリ一覧\n",
      "記事その１\n",
      "News Script: \n",
      "From: lerxst@wam.umd.edu (where's my thing)\n",
      "Subject: WHAT car is this!?\n",
      "Nntp-Posting-Host: rac3.wam.umd.edu\n",
      "Organization: University of Maryland, College Park\n",
      "Lines: 15\n",
      "\n",
      " I was wondering if anyone out there could enlighten me on this car I saw\n",
      "the other day. It was a 2-door sports car, looked to be from the late 60s/\n",
      "early 70s. It was called a Bricklin. The doors were really small. In addition,\n",
      "the front bumper was separate from the rest of the body. This is \n",
      "all I know. If anyone can tellme a model name, engine specs, years\n",
      "of production, where this car is made, history, or whatever info you\n",
      "have on this funky looking car, please e-mail.\n",
      "\n",
      "Thanks,\n",
      "- IL\n",
      "   ---- brought to you by your neighborhood Lerxst ----\n",
      "\n",
      "\n",
      "\n",
      "\n",
      "\n",
      "記事その１のカテゴリ\n",
      "Text Category label: 7\n"
     ]
    }
   ],
   "source": [
    "print(\"カテゴリ一覧\")\n",
    "print(\"記事その１\")\n",
    "print(\"News Script: \\n{}\".format(X_train[0]))\n",
    "print(\"記事その１のカテゴリ\")\n",
    "print(\"Text Category label: {}\".format(y_train[0]))"
   ]
  },
  {
   "cell_type": "code",
   "execution_count": 102,
   "id": "7072393a-b99c-4589-b83f-2ecc2f806ec7",
   "metadata": {},
   "outputs": [
    {
     "name": "stdout",
     "output_type": "stream",
     "text": [
      "<class 'scipy.sparse.csr.csr_matrix'>\n",
      "(テキスト番号, 単語番号), 出現回数\n",
      "  (0, 4605)\t1\n",
      "  (0, 16574)\t1\n",
      "  (0, 18299)\t1\n",
      "  (0, 26070)\t1\n",
      "  (0, 34131)\t1\n",
      "  (0, 34943)\t1\n",
      "  (0, 35135)\t1\n",
      "  (0, 35560)\t1\n",
      "  (0, 37378)\t1\n",
      "  (0, 37722)\t5\n",
      "  (0, 40939)\t1\n",
      "  (0, 45232)\t1\n",
      "  (0, 48550)\t1\n",
      "  (0, 48552)\t1\n",
      "  (0, 50039)\t1\n",
      "  (0, 50455)\t2\n",
      "  (0, 51651)\t1\n",
      "  (0, 51714)\t1\n",
      "  (0, 57203)\t1\n",
      "  (0, 63238)\t1\n",
      "  (0, 63970)\t1\n",
      "  (0, 65968)\t1\n",
      "  (0, 67023)\t1\n",
      "  (0, 73061)\t1\n",
      "  (0, 74552)\t1\n",
      "  :\t:\n",
      "  (0, 79519)\t1\n",
      "  (0, 83103)\t1\n",
      "  (0, 86416)\t1\n",
      "  (0, 87451)\t1\n",
      "  (0, 90192)\t1\n",
      "  (0, 91885)\t1\n",
      "  (0, 94962)\t1\n",
      "  (0, 95944)\t1\n",
      "  (0, 98748)\t1\n",
      "  (0, 99619)\t1\n",
      "  (0, 101175)\t1\n",
      "  (0, 104609)\t1\n",
      "  (0, 105907)\t1\n",
      "  (0, 108033)\t1\n",
      "  (0, 109044)\t1\n",
      "  (0, 109354)\t1\n",
      "  (0, 111094)\t1\n",
      "  (0, 113755)\t1\n",
      "  (0, 114195)\t1\n",
      "  (0, 114439)\t1\n",
      "  (0, 118013)\t2\n",
      "  (0, 118714)\t1\n",
      "  (0, 122887)\t2\n",
      "  (0, 124627)\t1\n",
      "  (0, 127721)\t1\n",
      "Bow表現ベクトル\n",
      "[[0 0 0 ... 0 0 0]]\n",
      "129796\n"
     ]
    }
   ],
   "source": [
    "from sklearn.feature_extraction.text import CountVectorizer\n",
    "\n",
    "\n",
    "# テキストをベクトル化\n",
    "vectorizer = CountVectorizer(stop_words=\"english\")\n",
    "vectorizer.fit(X_train)\n",
    "X_train_bow = vectorizer.transform(X_train)\n",
    "X_test_bow = vectorizer.transform(X_test)\n",
    "\n",
    "\n",
    "# １番目の文書のBoW表現のベクトルを表示\n",
    "print(type(X_train_bow))\n",
    "print(\"(テキスト番号, 単語番号), 出現回数\")\n",
    "print(X_train_bow[0])\n",
    "print(\"Bow表現ベクトル\")\n",
    "print(X_train_bow[0].toarray())\n",
    "print(len(X_train_bow[0].toarray()[0]))"
   ]
  },
  {
   "cell_type": "code",
   "execution_count": 103,
   "id": "494102db-62f2-4aff-ad7f-e06d8ea96afd",
   "metadata": {},
   "outputs": [
    {
     "data": {
      "text/plain": [
       "(11314, 129796)"
      ]
     },
     "execution_count": 103,
     "metadata": {},
     "output_type": "execute_result"
    }
   ],
   "source": [
    "X_train_bow.shape"
   ]
  },
  {
   "cell_type": "code",
   "execution_count": 105,
   "id": "22ca94b1-9dd6-4efe-9515-d64cb6169437",
   "metadata": {},
   "outputs": [
    {
     "name": "stdout",
     "output_type": "stream",
     "text": [
      "Train: 0.951\n",
      "Test: 0.811\n"
     ]
    }
   ],
   "source": [
    "from sklearn.naive_bayes import MultinomialNB\n",
    "\n",
    "\n",
    "mnb = MultinomialNB(alpha=0.4)\n",
    "mnb.fit(X_train_bow, y_train)\n",
    "\n",
    "print(\"Train: {:.3f}\".format(mnb.score(X_train_bow, y_train)))\n",
    "print(\"Test: {:.3f}\".format(mnb.score(X_test_bow, y_test)))"
   ]
  }
 ],
 "metadata": {
  "kernelspec": {
   "display_name": "Python 3 (ipykernel)",
   "language": "python",
   "name": "python3"
  },
  "language_info": {
   "codemirror_mode": {
    "name": "ipython",
    "version": 3
   },
   "file_extension": ".py",
   "mimetype": "text/x-python",
   "name": "python",
   "nbconvert_exporter": "python",
   "pygments_lexer": "ipython3",
   "version": "3.9.2"
  }
 },
 "nbformat": 4,
 "nbformat_minor": 5
}
